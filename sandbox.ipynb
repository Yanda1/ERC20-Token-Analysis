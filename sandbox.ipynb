{
 "cells": [
  {
   "cell_type": "code",
   "execution_count": 1,
   "metadata": {},
   "outputs": [],
   "source": [
    "import time\n",
    "import json\n",
    "from decimal import Decimal\n",
    "from datetime import datetime\n",
    "# Third parties libs\n",
    "from web3 import Web3\n",
    "from requests import HTTPError\n",
    "# Utils\n",
    "from tqdm import tqdm\n",
    "import matplotlib.pyplot as plt"
   ]
  },
  {
   "cell_type": "code",
   "execution_count": 2,
   "metadata": {},
   "outputs": [],
   "source": [
    "w3 = Web3(Web3.HTTPProvider('https://eth-mainnet-public.unifra.io'))"
   ]
  },
  {
   "cell_type": "code",
   "execution_count": 4,
   "metadata": {},
   "outputs": [],
   "source": [
    "TOKEN_ADDR = '0xA0b86991c6218b36c1d19D4a2e9Eb0cE3606eB48'\n",
    "TOKEN_CREATION_BLOCK = 12254697\n",
    "TOKEN_DECIMALS = 6\n",
    "\n",
    "contract_abi = []\n",
    "with open('token_abi.json', 'r') as fh:\n",
    "    contract_abi = json.load(fh)"
   ]
  },
  {
   "cell_type": "code",
   "execution_count": 5,
   "metadata": {},
   "outputs": [],
   "source": [
    "contract = w3.eth.contract(\n",
    "    address=TOKEN_ADDR,\n",
    "    abi=contract_abi\n",
    ")"
   ]
  },
  {
   "attachments": {},
   "cell_type": "markdown",
   "metadata": {},
   "source": [
    "### Helper functions"
   ]
  },
  {
   "cell_type": "code",
   "execution_count": 6,
   "metadata": {},
   "outputs": [],
   "source": [
    "def fromUnits(weiAmount, decimals):\n",
    "    return Decimal(weiAmount) / Decimal(10 ** decimals)"
   ]
  },
  {
   "cell_type": "code",
   "execution_count": 7,
   "metadata": {},
   "outputs": [],
   "source": [
    "def fetch_chunk(contract_event, start_block, end_block=None):\n",
    "    events = []\n",
    "    try:\n",
    "        if end_block:\n",
    "            events = contract_event.getLogs(fromBlock=start_block, toBlock=end_block)\n",
    "        else:\n",
    "            events = contract_event.getLogs(fromBlock=start_block)\n",
    "    except HTTPError as err:\n",
    "        if err.response.status_code == 429:\n",
    "            time.sleep(1)\n",
    "            return fetch_chunk(contract_event, start_block, end_block)\n",
    "        else:\n",
    "            raise\n",
    "\n",
    "    return events"
   ]
  },
  {
   "cell_type": "code",
   "execution_count": 8,
   "metadata": {},
   "outputs": [],
   "source": [
    "def get_block_timestamp(block_num):\n",
    "    try:\n",
    "        block = w3.eth.get_block(block_num)\n",
    "    except HTTPError as err:\n",
    "        if err.response.status_code == 429:\n",
    "            time.sleep(1)\n",
    "            return get_block_timestamp(block_num)\n",
    "        else:\n",
    "            raise\n",
    "\n",
    "    return block.timestamp"
   ]
  },
  {
   "attachments": {},
   "cell_type": "markdown",
   "metadata": {},
   "source": [
    "## Get Token Total Supply"
   ]
  },
  {
   "cell_type": "code",
   "execution_count": 9,
   "metadata": {},
   "outputs": [],
   "source": [
    "result = contract.functions.totalSupply().call()"
   ]
  },
  {
   "cell_type": "code",
   "execution_count": 10,
   "metadata": {},
   "outputs": [
    {
     "name": "stdout",
     "output_type": "stream",
     "text": [
      "Total Supply: 39684488699.08955\n"
     ]
    }
   ],
   "source": [
    "# Convert from wei to decimal number on printing\n",
    "print('Total Supply:', fromUnits(result, TOKEN_DECIMALS))"
   ]
  },
  {
   "attachments": {},
   "cell_type": "markdown",
   "metadata": {},
   "source": [
    "## Get Minting/Burning Events\n",
    "- check for an existing json files\n",
    "- plot existing events\n",
    "- get new events(from blockchain)\n",
    "- save events to JSON files"
   ]
  },
  {
   "attachments": {},
   "cell_type": "markdown",
   "metadata": {},
   "source": [
    "### Reading old events from the existing json files "
   ]
  },
  {
   "cell_type": "code",
   "execution_count": 12,
   "metadata": {},
   "outputs": [],
   "source": [
    "mint_events = []\n",
    "burn_events = []\n",
    "\n",
    "try:\n",
    "    with open('mint_events.json', 'r') as fp:\n",
    "        mint_events = json.load(fp)\n",
    "except Exception as err:\n",
    "    print(str(err))\n",
    "\n",
    "try:\n",
    "    with open('burn_events.json', 'r') as fp:\n",
    "        burn_events = json.load(fp)\n",
    "except Exception as err:\n",
    "    print(str(err))"
   ]
  },
  {
   "attachments": {},
   "cell_type": "markdown",
   "metadata": {},
   "source": [
    "### Plotting Mint and Burn events"
   ]
  },
  {
   "cell_type": "code",
   "execution_count": 16,
   "metadata": {},
   "outputs": [
    {
     "data": {
      "image/png": "[encoded data removed]",
      "text/plain": [
       "<Figure size 640x480 with 1 Axes>"
      ]
     },
     "metadata": {},
     "output_type": "display_data"
    }
   ],
   "source": [
    "if (mint_events and burn_events):\n",
    "    datetime_data = []\n",
    "    mint_events_data = []\n",
    "    burn_events_data = []\n",
    "    # Prepare data points\n",
    "    for event in mint_events:\n",
    "        datetime_data.append(datetime.fromtimestamp(event['timestamp']))\n",
    "        mint_events_data.append(fromUnits(event['args']['amount'], TOKEN_DECIMALS))\n",
    "        burn_events_data.append(0)\n",
    "\n",
    "    for event in burn_events:\n",
    "        datetime_data.append(datetime.fromtimestamp(event['timestamp']))\n",
    "        mint_events_data.append(0)\n",
    "        burn_events_data.append(-fromUnits(event['args']['amount'], TOKEN_DECIMALS))\n",
    "    # Create chart\n",
    "    fig = plt.figure()\n",
    "    ax = fig.add_axes([0,0,1,1])\n",
    "    ax.bar(datetime_data, mint_events_data, width=1, color='g')\n",
    "    ax.bar(datetime_data, burn_events_data, width=1, color='r')\n",
    "    plt.xlabel(\"Time\")\n",
    "    plt.ylabel(\"Amount\")\n",
    "    plt.show()"
   ]
  },
  {
   "attachments": {},
   "cell_type": "markdown",
   "metadata": {},
   "source": [
    "### Fetching new Mint and Burn events"
   ]
  },
  {
   "cell_type": "code",
   "execution_count": null,
   "metadata": {},
   "outputs": [],
   "source": [
    "# Constants\n",
    "BATCH_SIZE = 1000\n",
    "# Variables\n",
    "new_mint_events = []\n",
    "new_burn_events = []\n",
    "last_mint_block_num = None\n",
    "last_burn_block_num = None\n",
    "current_block_num = w3.eth.blockNumber\n",
    "\n",
    "# Start from the last recorded event blockNumber or from the token creation block\n",
    "if (mint_events and burn_events):\n",
    "    if mint_events[-1]['blockNumber'] > burn_events[-1]['blockNumber']:\n",
    "        last_block_num = mint_events[-1]['blockNumber'] + 1\n",
    "    else:\n",
    "        last_block_num = burn_events[-1]['blockNumber'] + 1\n",
    "else:\n",
    "    last_block_num = TOKEN_CREATION_BLOCK\n",
    "# Setup progress bar\n",
    "pbar = tqdm(total=current_block_num - last_block_num)\n",
    "\n",
    "# Run loop until the most recent block on the chain\n",
    "while last_block_num <= current_block_num:\n",
    "    events = fetch_chunk(contract.events.Mint, last_block_num, last_block_num + BATCH_SIZE - 1)\n",
    "    for event in events:\n",
    "        # Retrieve event timestamp\n",
    "        timestamp = get_block_timestamp(event.blockNumber)\n",
    "        # Add event in array\n",
    "        new_mint_events.append({\n",
    "            'args': dict(event.args),\n",
    "            'blockNumber': event.blockNumber,\n",
    "            'timestamp': timestamp}\n",
    "        )\n",
    "\n",
    "    events = fetch_chunk(contract.events.Burn, last_block_num, last_block_num + BATCH_SIZE - 1)\n",
    "    for event in events:\n",
    "        # Retrieve event timestamp\n",
    "        timestamp = get_block_timestamp(event.blockNumber)\n",
    "        # Add event in array\n",
    "        new_burn_events.append({\n",
    "            'args': dict(event.args),\n",
    "            'blockNumber': event.blockNumber,\n",
    "            'timestamp': timestamp}\n",
    "        )\n",
    "\n",
    "    # Update last_block_num\n",
    "    last_block_num += BATCH_SIZE\n",
    "    # Update progress bar\n",
    "    pbar.update(BATCH_SIZE)\n",
    "\n",
    "pbar.close()"
   ]
  },
  {
   "attachments": {},
   "cell_type": "markdown",
   "metadata": {},
   "source": [
    "### Saving events to JSON files"
   ]
  },
  {
   "cell_type": "code",
   "execution_count": null,
   "metadata": {},
   "outputs": [],
   "source": [
    "with open('mint_events.json', 'w+') as fp:\n",
    "    json.dump(mint_events + new_mint_events, fp)\n",
    "\n",
    "with open('burn_events.json', 'w+') as fp:\n",
    "    json.dump(burn_events + new_burn_events, fp)"
   ]
  }
 ],
 "metadata": {
  "kernelspec": {
   "display_name": "Python 3.9.9 ('venv': venv)",
   "language": "python",
   "name": "python3"
  },
  "language_info": {
   "codemirror_mode": {
    "name": "ipython",
    "version": 3
   },
   "file_extension": ".py",
   "mimetype": "text/x-python",
   "name": "python",
   "nbconvert_exporter": "python",
   "pygments_lexer": "ipython3",
   "version": "3.9.9 (main, Jan 22 2022, 00:40:30) \n[Clang 13.0.0 (clang-1300.0.29.30)]"
  },
  "orig_nbformat": 4,
  "vscode": {
   "interpreter": {
    "hash": "9f74d9e236363adb6e58473723a5a02efe9ea06db3961b8803fc2886755d73f5"
   }
  }
 },
 "nbformat": 4,
 "nbformat_minor": 2
}
